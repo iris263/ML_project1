{
 "cells": [
  {
   "cell_type": "code",
   "execution_count": 1,
   "id": "fee6f6b0-1331-4f6b-a386-2e00d9036945",
   "metadata": {},
   "outputs": [],
   "source": [
    "import numpy as np\n",
    "from helpers import *\n",
    "from implementations import *\n",
    "from data_processing import *\n",
    "from hyperparams import *\n",
    "# from classification import *\n",
    "%load_ext autoreload\n",
    "%autoreload 2"
   ]
  },
  {
   "cell_type": "code",
   "execution_count": 2,
   "id": "218600e2-5d34-4bc0-ad81-322fd83a5730",
   "metadata": {},
   "outputs": [],
   "source": [
    "# loading train data \n",
    "yb, input_data, ids = load_csv_data(\"train.csv\")\n",
    "dimensions = np.shape(input_data)\n",
    "N = dimensions[0]\n",
    "P = dimensions[1]\n",
    "yb = np.reshape(yb,[N,1])\n",
    "yb[yb==-1] = 0\n"
   ]
  },
  {
   "cell_type": "code",
   "execution_count": 39,
   "id": "dab5ede4",
   "metadata": {},
   "outputs": [],
   "source": [
    "\n",
    "tx = data_replace(input_data)\n"
   ]
  },
  {
   "cell_type": "code",
   "execution_count": null,
   "id": "5b6ca904",
   "metadata": {},
   "outputs": [],
   "source": [
    "#Standardize each feature according to its type of distribution\n",
    "\n",
    "indices_min_max =[3,11,12,22,26]\n",
    "indices_gaussian =[0,1,6,8,13,14,16,17,24,27]\n",
    "indices_angles = [15,18,20,25,28]\n",
    "indices_gaussian_log = [2,5,7,9,10,19]\n",
    "\n",
    "normalize (tx, indices_gaussian_log, indices_angles, indices_gaussian, indices_min_max)"
   ]
  },
  {
   "cell_type": "code",
   "execution_count": 11,
   "id": "a6923787",
   "metadata": {},
   "outputs": [],
   "source": [
    "tx = np.delete(tx,29,1)\n",
    "tx = np.delete(tx,23,1)\n",
    "tx = np.delete(tx,21,1)\n",
    "tx = np.delete(tx,4,1)"
   ]
  },
  {
   "cell_type": "code",
   "execution_count": 41,
   "id": "d683eded",
   "metadata": {},
   "outputs": [],
   "source": [
    "tx = add_w0(tx,tx.shape[0])   \n",
    "\n",
    "\n",
    "x_tr = tx\n",
    "y_tr = yb\n"
   ]
  },
  {
   "cell_type": "code",
   "execution_count": 13,
   "id": "4200d98f",
   "metadata": {},
   "outputs": [],
   "source": [
    "initial_w = np.zeros([x_tr.shape[1],1])   \n",
    "max_iters = 100\n",
    "gamma = 0.7\n",
    "w_opt,loss = logistic_regression(y_tr,x_tr,initial_w,max_iters,gamma)"
   ]
  },
  {
   "cell_type": "code",
   "execution_count": 14,
   "id": "7c801fe4",
   "metadata": {},
   "outputs": [
    {
     "name": "stdout",
     "output_type": "stream",
     "text": [
      "0.5089893343645379\n",
      "(27, 1)\n"
     ]
    }
   ],
   "source": [
    "print(loss)\n",
    "print(w_opt.shape)"
   ]
  },
  {
   "cell_type": "code",
   "execution_count": null,
   "id": "26c8d4f2",
   "metadata": {},
   "outputs": [],
   "source": [
    "#If want to do reg logistic regression\n",
    "\n",
    "#initial_w = np.ones([x_tr.shape[1],1])\n",
    "#max_iters = 20\n",
    "#best_lambda, best_rmse = cross_validation_demo(y_tr, x_tr, 7, 4,initial_w,  np.logspace(-4, 0, 70), 3 ,gamma, max_iters )"
   ]
  },
  {
   "cell_type": "code",
   "execution_count": 49,
   "id": "7e7c0184",
   "metadata": {},
   "outputs": [],
   "source": [
    "#### dont deltetettete\n",
    "#w_opt2,loss2 = reg_logistic_regression(y_tr, x_tr, best_lambda, initial_w, max_iters, gamma)\n",
    "#print(loss2)"
   ]
  },
  {
   "cell_type": "code",
   "execution_count": 51,
   "id": "60414304",
   "metadata": {},
   "outputs": [],
   "source": [
    "y_test, x_test, ids = load_csv_data(\"test.csv\")\n",
    "dimensions_te = np.shape(x_test)\n",
    "N = dimensions_te[0]\n",
    "P = dimensions_te[1]\n",
    "y_test = np.reshape(y_test,[N,1])\n",
    "y_test[y_test==-1] = 0\n",
    "\n"
   ]
  },
  {
   "cell_type": "code",
   "execution_count": 52,
   "id": "804c0c8b",
   "metadata": {},
   "outputs": [],
   "source": [
    "# Replace by mean/median\n",
    "\n",
    "x_te = data_replace(x_test)\n",
    "y_te = y_test\n"
   ]
  },
  {
   "cell_type": "code",
   "execution_count": 53,
   "id": "09069495",
   "metadata": {},
   "outputs": [],
   "source": [
    "#Standardize each feature according to its type of distribution\n",
    "\n",
    "indices_min_max =[3,11,12,22,26]\n",
    "indices_gaussian =[0,1,6,8,13,14,16,17,24,27]\n",
    "indices_angles = [15,18,20,25,28]\n",
    "indices_gaussian_log = [2,5,7,9,10,19]\n",
    "\n",
    "normalize (x_te, indices_gaussian_log, indices_angles, indices_gaussian, indices_min_max)"
   ]
  },
  {
   "cell_type": "code",
   "execution_count": 54,
   "id": "d7d89cd1",
   "metadata": {},
   "outputs": [],
   "source": [
    "x_te = np.delete(x_te,29,1)\n",
    "x_te = np.delete(x_te,23,1)\n",
    "x_te = np.delete(x_te,21,1)\n",
    "x_te = np.delete(x_te,4,1)"
   ]
  },
  {
   "cell_type": "code",
   "execution_count": 55,
   "id": "90d7faae",
   "metadata": {},
   "outputs": [],
   "source": [
    "x_te= add_w0(x_te,x_te.shape[0])   "
   ]
  },
  {
   "cell_type": "code",
   "execution_count": 56,
   "id": "3e44b849",
   "metadata": {},
   "outputs": [],
   "source": [
    "y_pred = sigmoid(x_te@w_opt)\n",
    "y_pred[y_pred>0.5] = 1\n",
    "y_pred[y_pred<0.5] = -1"
   ]
  },
  {
   "cell_type": "code",
   "execution_count": 57,
   "id": "3cbd9bba",
   "metadata": {},
   "outputs": [],
   "source": [
    "create_csv_submission(ids, y_pred, \"predictionskjkjkj\")"
   ]
  }
 ],
 "metadata": {
  "kernelspec": {
   "display_name": "Python 3.9.13 ('base')",
   "language": "python",
   "name": "python3"
  },
  "language_info": {
   "codemirror_mode": {
    "name": "ipython",
    "version": 3
   },
   "file_extension": ".py",
   "mimetype": "text/x-python",
   "name": "python",
   "nbconvert_exporter": "python",
   "pygments_lexer": "ipython3",
   "version": "3.9.13"
  },
  "vscode": {
   "interpreter": {
    "hash": "3d597f4c481aa0f25dceb95d2a0067e73c0966dcbd003d741d821a7208527ecf"
   }
  }
 },
 "nbformat": 4,
 "nbformat_minor": 5
}
